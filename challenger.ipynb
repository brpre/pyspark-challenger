{
 "cells": [
  {
   "cell_type": "code",
   "execution_count": 1,
   "metadata": {
    "collapsed": true
   },
   "outputs": [],
   "source": [
    "from pyspark.sql import SparkSession\n",
    "from pyspark.sql.functions import col, udf\n",
    "from pyspark.sql.types import DoubleType\n",
    "from math import radians, cos, sin, asin, sqrt"
   ]
  },
  {
   "cell_type": "markdown",
   "source": [
    "## Exploring the Challenger weather data"
   ],
   "metadata": {
    "collapsed": false
   }
  },
  {
   "cell_type": "code",
   "execution_count": 2,
   "outputs": [
    {
     "name": "stderr",
     "output_type": "stream",
     "text": [
      "Setting default log level to \"WARN\".\n",
      "To adjust logging level use sc.setLogLevel(newLevel). For SparkR, use setLogLevel(newLevel).\n",
      "23/04/16 23:39:26 WARN NativeCodeLoader: Unable to load native-hadoop library for your platform... using builtin-java classes where applicable\n",
      "23/04/16 23:39:29 WARN Utils: Service 'SparkUI' could not bind on port 4040. Attempting port 4041.\n"
     ]
    }
   ],
   "source": [
    "spark = SparkSession.builder.appName(\"Challenger weather analysis\").getOrCreate()"
   ],
   "metadata": {
    "collapsed": false
   }
  },
  {
   "cell_type": "markdown",
   "source": [
    "stations.csv\n",
    "- Station ID (Int)\n",
    "- WBAN ID (Int)  \"Weather Bureau Army Navy\"\n",
    "- GPS Latitude (Decimal)\n",
    "- GPS Longitude (Decimal)\n",
    "\n",
    "Stations are identified by the combination of their Station ID and WBAN ID.\n",
    "Either of these IDs might be NULL."
   ],
   "metadata": {
    "collapsed": false
   }
  },
  {
   "cell_type": "code",
   "execution_count": 3,
   "outputs": [
    {
     "name": "stderr",
     "output_type": "stream",
     "text": [
      "                                                                                \r"
     ]
    },
    {
     "name": "stdout",
     "output_type": "stream",
     "text": [
      "root\n",
      " |-- station_id: integer (nullable = true)\n",
      " |-- wban_id: integer (nullable = true)\n",
      " |-- gps_lat: double (nullable = true)\n",
      " |-- gps_long: double (nullable = true)\n",
      "\n",
      "29444 rows in df\n"
     ]
    }
   ],
   "source": [
    "stations_all = spark.read.csv('data/stations.csv', inferSchema=True, header=True)\n",
    "stations_all.printSchema()\n",
    "print(f'{stations_all.count()} rows in df')"
   ],
   "metadata": {
    "collapsed": false
   }
  },
  {
   "cell_type": "code",
   "execution_count": 4,
   "outputs": [
    {
     "name": "stderr",
     "output_type": "stream",
     "text": [
      "                                                                                \r"
     ]
    },
    {
     "name": "stdout",
     "output_type": "stream",
     "text": [
      "+----------+-------+-------+--------+\n",
      "|station_id|wban_id|gps_lat|gps_long|\n",
      "+----------+-------+-------+--------+\n",
      "|     13840|   null| 60.194|    11.1|\n",
      "|     14450|   null|  59.45|     8.0|\n",
      "|     21220|   null| 66.533|  17.667|\n",
      "|     21700|   null|  65.75|  21.767|\n",
      "|     28170|   null| 68.433|   27.45|\n",
      "|     30970|   null|  56.75|  -6.883|\n",
      "|     32460|   null| 54.983|    -1.6|\n",
      "|     40011|   null| 65.533| -24.467|\n",
      "|     62680|   null| 52.533|   5.433|\n",
      "|     64590|   null| 50.583|   4.683|\n",
      "|     66010|   null|  47.55|   7.583|\n",
      "|     74820|   null| 45.987|   5.328|\n",
      "|     81410|   null| 41.633|   -4.75|\n",
      "|    104880|   null| 51.133|  13.767|\n",
      "|    105536|   null| 50.982|  12.506|\n",
      "|    108560|   null| 48.186|  10.861|\n",
      "|    109800|   null|   47.7|  12.017|\n",
      "|    111300|   null| 47.583|  12.167|\n",
      "|    112020|   null| 47.117|    12.5|\n",
      "|    117500|   null| 49.433|    17.4|\n",
      "+----------+-------+-------+--------+\n",
      "only showing top 20 rows\n",
      "\n",
      "24638 rows in df\n"
     ]
    }
   ],
   "source": [
    "# drop duplicate stations and rows with unspecified id, latitude, or longitude\n",
    "# Note that some rows have lat/long of zero which will be naturally excluded in next operation\n",
    "stations = stations_all.filter(\n",
    "    stations_all.station_id.isNotNull() &\n",
    "    stations_all.gps_lat.isNotNull() &\n",
    "    stations_all.gps_long.isNotNull()\n",
    ").dropDuplicates(['station_id'])\n",
    "stations.show()\n",
    "print(f'{stations.count()} rows in df')"
   ],
   "metadata": {
    "collapsed": false
   }
  },
  {
   "cell_type": "markdown",
   "source": [
    "Identify all weather stations within 100 km of Cape Canaveral using the haversine function (Note: not all the stations necessarily recorded a temperature on any given day.)"
   ],
   "metadata": {
    "collapsed": false
   }
  },
  {
   "cell_type": "code",
   "execution_count": 5,
   "outputs": [],
   "source": [
    "# first, get haversine distance between any two specified lat-long pairs\n",
    "import numpy as np\n",
    "\n",
    "# use cape canaveral's lat/long as base\n",
    "cc_lat = 28.3922\n",
    "cc_long = -80.6077\n",
    "\n",
    "# haversine function borrowed from https://stackoverflow.com/questions/4913349/haversine-formula-in-python-bearing-and-distance-between-two-gps-points\n",
    "def haversine(lat1, lon1, lat2=cc_lat, lon2=cc_long):\n",
    "    \"\"\"\n",
    "    Calculate the great circle distance in kilometers between two points\n",
    "    on the earth (specified in decimal degrees)\n",
    "    \"\"\"\n",
    "    # convert decimal degrees to radians\n",
    "    lon1, lat1, lon2, lat2 = map(radians, [lon1, lat1, lon2, lat2])\n",
    "\n",
    "    # haversine formula\n",
    "    dlon = lon2 - lon1\n",
    "    dlat = lat2 - lat1\n",
    "    a = sin(dlat/2)**2 + cos(lat1) * cos(lat2) * sin(dlon/2)**2\n",
    "    c = 2 * asin(sqrt(a))\n",
    "    r = 6371 # Radius of earth in kilometers. Use 3956 for miles. Determines return value units.\n",
    "    return c * r\n",
    "\n",
    "# convert haversine() function into a spark UDF\n",
    "haversine_udf = udf(lambda lat, long: haversine(lat, long), DoubleType())"
   ],
   "metadata": {
    "collapsed": false
   }
  },
  {
   "cell_type": "code",
   "execution_count": 6,
   "outputs": [
    {
     "name": "stdout",
     "output_type": "stream",
     "text": [
      "24638 rows in df\n"
     ]
    }
   ],
   "source": [
    "# add column to df containing distance between each station and Cape Canaveral\n",
    "\n",
    "# get distance between each lat-long pair and cape canaveral\n",
    "haversine_col = haversine_udf(col('gps_lat'), col('gps_long'))\n",
    "# add column to stations df containing distances\n",
    "stations_cc_dist = stations.withColumn('cc_dist', haversine_col)\n",
    "print(f'{stations_cc_dist.count()} rows in df')"
   ],
   "metadata": {
    "collapsed": false
   }
  },
  {
   "cell_type": "code",
   "execution_count": 7,
   "outputs": [
    {
     "name": "stderr",
     "output_type": "stream",
     "text": [
      "                                                                                \r"
     ]
    },
    {
     "name": "stdout",
     "output_type": "stream",
     "text": [
      "+----------+-------+-------+--------+------------------+\n",
      "|station_id|wban_id|gps_lat|gps_long|           cc_dist|\n",
      "+----------+-------+-------+--------+------------------+\n",
      "|    722050|  12815| 28.434| -81.325| 70.30590142260303|\n",
      "|    722053|  12841| 28.545| -81.333| 72.90473375184327|\n",
      "|    747946|  12886| 28.617| -80.683| 26.05707106937488|\n",
      "|    747950|  12867| 28.233|   -80.6| 17.71827325464815|\n",
      "|    722040|  12838| 28.101| -80.644| 32.57460775618103|\n",
      "|    749047|   null| 28.283| -81.416| 80.03461347256854|\n",
      "|    997806|   null|   28.4| -80.533| 7.358154613618123|\n",
      "|    720904|    299| 29.067| -81.283| 99.82869362421721|\n",
      "|    722056|  12834| 29.183| -81.048| 97.84308281668112|\n",
      "|    722051|  12841| 28.545| -81.333| 72.90473375184327|\n",
      "|    747945|   null| 28.617|   -80.7|26.573973942086713|\n",
      "|    998275|   null| 28.017| -80.683|42.367830338530915|\n",
      "|    747870|  12834| 29.183| -81.048| 97.84308281668112|\n",
      "|    997354|   null|  28.42|  -80.58| 4.110433692817337|\n",
      "|    995450|   null| 28.519| -80.166|  45.4246406407937|\n",
      "|    722046|  12898| 28.517|   -80.8| 23.36665592452053|\n",
      "|    747940|  12868| 28.483| -80.567|10.852471594053252|\n",
      "|    722058|   null|  29.07|  -80.92| 81.28688869720159|\n",
      "|    722361|  92808| 29.054| -80.948| 80.72444804718191|\n",
      "|    722011|  92813|  28.29| -81.437| 81.95247639646107|\n",
      "+----------+-------+-------+--------+------------------+\n",
      "only showing top 20 rows\n",
      "\n",
      "24 rows in df\n"
     ]
    }
   ],
   "source": [
    "# filter stations to retain only rows where distance is leq 100km\n",
    "stations_near_cc = stations_cc_dist.filter(col('cc_dist') <= 100)\n",
    "stations_near_cc.show()\n",
    "print(f'{stations_near_cc.count()} rows in df')"
   ],
   "metadata": {
    "collapsed": false
   }
  },
  {
   "cell_type": "markdown",
   "source": [
    "Use [inverse distance weighting](https://gisgeography.com/inverse-distance-weighting-idw-interpolation/) to estimate the temperature at Cape Canaveral on January 28, 1986. (Weather stations closer to the Cape Canaveral will be given more weight than stations that are far away)"
   ],
   "metadata": {
    "collapsed": false
   }
  },
  {
   "cell_type": "markdown",
   "source": [
    "yyyy.csv (yyyy = year)\n",
    "- StationID (Int)\n",
    "- WBANID (Int)\n",
    "- Month (Int)\n",
    "- Day (Int)\n",
    "- Temperature / degrees F (Decimal)"
   ],
   "metadata": {
    "collapsed": false
   }
  },
  {
   "cell_type": "code",
   "execution_count": 8,
   "outputs": [
    {
     "name": "stderr",
     "output_type": "stream",
     "text": [
      "[Stage 30:=======>                                                  (1 + 7) / 8]\r"
     ]
    },
    {
     "name": "stdout",
     "output_type": "stream",
     "text": [
      "root\n",
      " |-- station_id: integer (nullable = true)\n",
      " |-- wban_id: integer (nullable = true)\n",
      " |-- month: integer (nullable = true)\n",
      " |-- day: integer (nullable = true)\n",
      " |-- temp_f: double (nullable = true)\n",
      "\n"
     ]
    },
    {
     "name": "stderr",
     "output_type": "stream",
     "text": [
      "                                                                                \r"
     ]
    }
   ],
   "source": [
    "temps = spark.read.csv('data/1986.csv', inferSchema=True, header=True)\n",
    "temps.printSchema()"
   ],
   "metadata": {
    "collapsed": false
   }
  },
  {
   "cell_type": "code",
   "execution_count": 9,
   "outputs": [
    {
     "name": "stdout",
     "output_type": "stream",
     "text": [
      "+----------+-------+-----+---+------+\n",
      "|station_id|wban_id|month|day|temp_f|\n",
      "+----------+-------+-----+---+------+\n",
      "|     10010|   null|    1|  1|  17.2|\n",
      "|     10010|   null|    1|  2|  12.1|\n",
      "|     10010|   null|    1|  3|  10.4|\n",
      "|     10010|   null|    1|  4|  17.4|\n",
      "|     10010|   null|    1|  5|  26.5|\n",
      "|     10010|   null|    1|  6|  30.1|\n",
      "|     10010|   null|    1|  7|  29.7|\n",
      "|     10010|   null|    1|  8|  29.6|\n",
      "|     10010|   null|    1|  9|  29.6|\n",
      "|     10010|   null|    1| 10|  33.0|\n",
      "|     10010|   null|    1| 11|  32.5|\n",
      "|     10010|   null|    1| 12|  27.4|\n",
      "|     10010|   null|    1| 13|  22.2|\n",
      "|     10010|   null|    1| 14|  11.3|\n",
      "|     10010|   null|    1| 15|   2.5|\n",
      "|     10010|   null|    1| 16|   3.0|\n",
      "|     10010|   null|    1| 17|  13.4|\n",
      "|     10010|   null|    1| 18|  29.8|\n",
      "|     10010|   null|    1| 19|  27.5|\n",
      "|     10010|   null|    1| 20|  25.2|\n",
      "+----------+-------+-----+---+------+\n",
      "only showing top 20 rows\n",
      "\n"
     ]
    }
   ],
   "source": [
    "temps.show()"
   ],
   "metadata": {
    "collapsed": false
   }
  },
  {
   "cell_type": "code",
   "execution_count": 10,
   "outputs": [
    {
     "name": "stderr",
     "output_type": "stream",
     "text": [
      "                                                                                \r"
     ]
    },
    {
     "data": {
      "text/plain": "[720904,\n 722011,\n 722040,\n 722045,\n 722046,\n 722050,\n 722051,\n 722053,\n 722056,\n 722057,\n 722058,\n 722361,\n 747870,\n 747930,\n 747940,\n 747945,\n 747946,\n 747950,\n 749047,\n 994951,\n 995450,\n 997354,\n 997806,\n 998275]"
     },
     "execution_count": 10,
     "metadata": {},
     "output_type": "execute_result"
    }
   ],
   "source": [
    "# get list of stations near cape canaveral from prev analysis\n",
    "near_cc = stations_near_cc.rdd.map(lambda x: x.station_id).collect()\n",
    "sorted(near_cc)"
   ],
   "metadata": {
    "collapsed": false
   }
  },
  {
   "cell_type": "code",
   "execution_count": 11,
   "outputs": [
    {
     "name": "stderr",
     "output_type": "stream",
     "text": [
      "                                                                                \r"
     ]
    },
    {
     "name": "stdout",
     "output_type": "stream",
     "text": [
      "+----------+-------+-----+---+------+\n",
      "|station_id|wban_id|month|day|temp_f|\n",
      "+----------+-------+-----+---+------+\n",
      "|    722040|  12838|    1| 28|  33.7|\n",
      "|    722045|  12843|    1| 28|  37.5|\n",
      "|    722046|   null|    1| 28|  37.0|\n",
      "|    722050|  12815|    1| 28|  34.7|\n",
      "|    722051|  12841|    1| 28|  15.3|\n",
      "|    722056|  12834|    1| 28|  31.8|\n",
      "|    722057|  12854|    1| 28|  33.4|\n",
      "|    747945|   null|    1| 28|  33.7|\n",
      "|    747950|  12867|    1| 28|  39.6|\n",
      "+----------+-------+-----+---+------+\n",
      "\n"
     ]
    }
   ],
   "source": [
    "# filter weather data to exclude stations >100km from cape canaveral\n",
    "# include only stations that recorded a temp on 28 jan 1986\n",
    "chal_temps = temps.filter(\n",
    "    temps.station_id.isin(near_cc) &\n",
    "    (temps.month == 1) &\n",
    "    (temps.day == 28)\n",
    ")\n",
    "chal_temps.show()"
   ],
   "metadata": {
    "collapsed": false
   }
  },
  {
   "cell_type": "code",
   "execution_count": 12,
   "outputs": [
    {
     "name": "stderr",
     "output_type": "stream",
     "text": [
      "                                                                                \r"
     ]
    },
    {
     "name": "stdout",
     "output_type": "stream",
     "text": [
      "+----------+------+-------+--------+------------------+\n",
      "|station_id|temp_f|gps_lat|gps_long|           cc_dist|\n",
      "+----------+------+-------+--------+------------------+\n",
      "|    722040|  33.7| 28.101| -80.644| 32.57460775618103|\n",
      "|    722045|  37.5| 27.653| -80.243| 89.65245500958036|\n",
      "|    722046|  37.0| 28.517|   -80.8| 23.36665592452053|\n",
      "|    722050|  34.7| 28.434| -81.325| 70.30590142260303|\n",
      "|    722051|  15.3| 28.545| -81.333| 72.90473375184327|\n",
      "|    722056|  31.8| 29.183| -81.048| 97.84308281668112|\n",
      "|    722057|  33.4|  28.78| -81.244| 75.62645082596696|\n",
      "|    747945|  33.7| 28.617|   -80.7|26.573973942086713|\n",
      "|    747950|  39.6| 28.233|   -80.6| 17.71827325464815|\n",
      "+----------+------+-------+--------+------------------+\n",
      "\n"
     ]
    }
   ],
   "source": [
    "# join stations and temps dataframes on station_id (retain lat, long, temps)\n",
    "chal_temp_ll = chal_temps\\\n",
    "    .join(stations_near_cc, 'station_id')\\\n",
    "    .select(col('station_id'), col('temp_f'), col('gps_lat'), col('gps_long'), col('cc_dist'))\n",
    "chal_temp_ll.show()"
   ],
   "metadata": {
    "collapsed": false
   }
  },
  {
   "cell_type": "markdown",
   "source": [
    "Use inverse distance weighting (https://gisgeography.com/inverse-distance-weighting-idw-interpolation/) to estimate the temperature at Cape Canaveral on January 28, 1986. (Weather stations closer to the Cape Canaveral will be given more weight than stations that are far away.)."
   ],
   "metadata": {
    "collapsed": false
   }
  },
  {
   "cell_type": "code",
   "execution_count": 13,
   "outputs": [
    {
     "name": "stderr",
     "output_type": "stream",
     "text": [
      "[Stage 47:=======>                                                  (1 + 7) / 8]\r"
     ]
    },
    {
     "name": "stdout",
     "output_type": "stream",
     "text": [
      "+-----------------+--------------------+\n",
      "|   sum(temp_dist)|sum(inv_dist_weight)|\n",
      "+-----------------+--------------------+\n",
      "|8.009496816582459| 0.23010210063007489|\n",
      "+-----------------+--------------------+\n",
      "\n"
     ]
    },
    {
     "name": "stderr",
     "output_type": "stream",
     "text": [
      "                                                                                \r"
     ]
    }
   ],
   "source": [
    "# add IDW column to df for weight discounting\n",
    "# The weight for a point is calculated as 1 / (haversine distance between given points)\n",
    "idw_udf = udf(lambda dist: 1 / dist, DoubleType())\n",
    "chal_idw = chal_temp_ll.withColumn('inv_dist_weight', idw_udf(col('cc_dist')))\n",
    "# add a temp/dist col\n",
    "temp_dist_udf = udf(lambda temp,dist: temp / dist, DoubleType())\n",
    "chal_idw_temp = chal_idw.withColumn(\"temp_dist\", temp_dist_udf(col('temp_f'), col('cc_dist')))\n",
    "# calculate the weighted average temperature\n",
    "# final agg: sum(temp/dist col) / sum(idw col)\n",
    "chal_idw_temp.agg(\n",
    "    {\n",
    "        'temp_dist': 'sum',\n",
    "        'inv_dist_weight': 'sum',\n",
    "    }\n",
    ").show()"
   ],
   "metadata": {
    "collapsed": false
   }
  },
  {
   "cell_type": "code",
   "execution_count": 14,
   "outputs": [
    {
     "name": "stderr",
     "output_type": "stream",
     "text": [
      "                                                                                \r"
     ]
    },
    {
     "data": {
      "text/plain": "34.808447183448266"
     },
     "execution_count": 14,
     "metadata": {},
     "output_type": "execute_result"
    }
   ],
   "source": [
    "# final agg: sum(temp/dist col) / sum(idw col)\n",
    "# estimated temp using IDW\n",
    "test_list = chal_idw_temp.agg(\n",
    "    {\n",
    "        'temp_dist': 'sum',\n",
    "        'inv_dist_weight': 'sum',\n",
    "    }\n",
    ").collect()\n",
    "\n",
    "test_list[0][0] / test_list[0][1]"
   ],
   "metadata": {
    "collapsed": false
   }
  },
  {
   "cell_type": "markdown",
   "source": [
    "Estimate the temperature at Cape Canaveral for every day in January 1986"
   ],
   "metadata": {
    "collapsed": false
   }
  },
  {
   "cell_type": "code",
   "execution_count": 15,
   "outputs": [],
   "source": [
    "def estimate_temp(day_temps):\n",
    "    \"\"\"\n",
    "    UDF used to estimate temp per day at Cape Canaveral\n",
    "    :param day_temps: df containing temp data at surrounding stations on a single day\n",
    "    :return: estimated temp at CC for this data's day\n",
    "    \"\"\"\n",
    "    # The weight for a point is calculated as 1 / (haversine distance between given points)\n",
    "    idw = day_temps.withColumn('inv_dist_weight', idw_udf(col('cc_dist')))\n",
    "    # add a temp/dist col\n",
    "    idw_temp = idw.withColumn(\"temp_dist\", temp_dist_udf(col('temp_f'), col('cc_dist')))\n",
    "    # calculate the weighted average temperature\n",
    "    # final agg: sum(temp/dist col) / sum(idw col)\n",
    "    temp_idw = idw_temp.agg(\n",
    "        {\n",
    "            'temp_dist': 'sum',\n",
    "            'inv_dist_weight': 'sum',\n",
    "        }\n",
    "    ).collect()\n",
    "    return temp_idw[0][0] / temp_idw[0][1]\n",
    "\n",
    "# generate UDF from above function\n",
    "est_temp_udf = udf(lambda day_temps: estimate_temp(day_temps), DoubleType())"
   ],
   "metadata": {
    "collapsed": false
   }
  },
  {
   "cell_type": "code",
   "execution_count": 16,
   "outputs": [
    {
     "name": "stderr",
     "output_type": "stream",
     "text": [
      "                                                                                \r"
     ]
    },
    {
     "name": "stdout",
     "output_type": "stream",
     "text": [
      "+----------+------+-------+--------+-----------------+\n",
      "|station_id|temp_f|gps_lat|gps_long|          cc_dist|\n",
      "+----------+------+-------+--------+-----------------+\n",
      "|    722040|  65.0| 28.101| -80.644|32.57460775618103|\n",
      "|    722040|  67.1| 28.101| -80.644|32.57460775618103|\n",
      "|    722040|  64.5| 28.101| -80.644|32.57460775618103|\n",
      "|    722040|  67.6| 28.101| -80.644|32.57460775618103|\n",
      "|    722040|  63.0| 28.101| -80.644|32.57460775618103|\n",
      "|    722040|  51.0| 28.101| -80.644|32.57460775618103|\n",
      "|    722040|  64.1| 28.101| -80.644|32.57460775618103|\n",
      "|    722040|  63.5| 28.101| -80.644|32.57460775618103|\n",
      "|    722040|  65.3| 28.101| -80.644|32.57460775618103|\n",
      "|    722040|  68.7| 28.101| -80.644|32.57460775618103|\n",
      "|    722040|  63.1| 28.101| -80.644|32.57460775618103|\n",
      "|    722040|  56.0| 28.101| -80.644|32.57460775618103|\n",
      "|    722040|  54.9| 28.101| -80.644|32.57460775618103|\n",
      "|    722040|  49.6| 28.101| -80.644|32.57460775618103|\n",
      "|    722040|  50.4| 28.101| -80.644|32.57460775618103|\n",
      "|    722040|  57.0| 28.101| -80.644|32.57460775618103|\n",
      "|    722040|  66.6| 28.101| -80.644|32.57460775618103|\n",
      "|    722040|  63.4| 28.101| -80.644|32.57460775618103|\n",
      "|    722040|  65.7| 28.101| -80.644|32.57460775618103|\n",
      "|    722040|  57.9| 28.101| -80.644|32.57460775618103|\n",
      "+----------+------+-------+--------+-----------------+\n",
      "only showing top 20 rows\n",
      "\n"
     ]
    }
   ],
   "source": [
    "# filter weather data to exclude stations >100km from cape canaveral, include only jan 1986\n",
    "near_temps = temps.filter(\n",
    "    temps.station_id.isin(near_cc) &\n",
    "    (temps.month == 1)\n",
    ")\n",
    "\n",
    "# join stations and temps dataframes on station_id (retain lat, long, temps)\n",
    "near_temp_ll = near_temps\\\n",
    "    .join(stations_near_cc, 'station_id')\\\n",
    "    .select(col('station_id'), col('temp_f'), col('gps_lat'), col('gps_long'), col('cc_dist'))\n",
    "near_temp_ll.show()"
   ],
   "metadata": {
    "collapsed": false
   }
  },
  {
   "cell_type": "code",
   "execution_count": 20,
   "outputs": [
    {
     "ename": "AssertionError",
     "evalue": "all exprs should be Column",
     "output_type": "error",
     "traceback": [
      "\u001B[0;31m---------------------------------------------------------------------------\u001B[0m",
      "\u001B[0;31mAssertionError\u001B[0m                            Traceback (most recent call last)",
      "Input \u001B[0;32mIn [20]\u001B[0m, in \u001B[0;36m<module>\u001B[0;34m\u001B[0m\n\u001B[1;32m      1\u001B[0m \u001B[38;5;66;03m# groupby day, get estimated temp for cape canaveral for each group\u001B[39;00m\n\u001B[0;32m----> 2\u001B[0m \u001B[43mnear_temp_ll\u001B[49m\u001B[38;5;241;43m.\u001B[39;49m\u001B[43mgroupby\u001B[49m\u001B[43m(\u001B[49m\u001B[38;5;124;43m'\u001B[39;49m\u001B[38;5;124;43mday\u001B[39;49m\u001B[38;5;124;43m'\u001B[39;49m\u001B[43m)\u001B[49m\u001B[38;5;241;43m.\u001B[39;49m\u001B[43magg\u001B[49m\u001B[43m(\u001B[49m\u001B[43mest_temp_udf\u001B[49m\u001B[43m)\u001B[49m\n",
      "File \u001B[0;32m/Library/Frameworks/Python.framework/Versions/3.8/lib/python3.8/site-packages/pyspark/sql/group.py:173\u001B[0m, in \u001B[0;36mGroupedData.agg\u001B[0;34m(self, *exprs)\u001B[0m\n\u001B[1;32m    170\u001B[0m     jdf \u001B[38;5;241m=\u001B[39m \u001B[38;5;28mself\u001B[39m\u001B[38;5;241m.\u001B[39m_jgd\u001B[38;5;241m.\u001B[39magg(exprs[\u001B[38;5;241m0\u001B[39m])\n\u001B[1;32m    171\u001B[0m \u001B[38;5;28;01melse\u001B[39;00m:\n\u001B[1;32m    172\u001B[0m     \u001B[38;5;66;03m# Columns\u001B[39;00m\n\u001B[0;32m--> 173\u001B[0m     \u001B[38;5;28;01massert\u001B[39;00m \u001B[38;5;28mall\u001B[39m(\u001B[38;5;28misinstance\u001B[39m(c, Column) \u001B[38;5;28;01mfor\u001B[39;00m c \u001B[38;5;129;01min\u001B[39;00m exprs), \u001B[38;5;124m\"\u001B[39m\u001B[38;5;124mall exprs should be Column\u001B[39m\u001B[38;5;124m\"\u001B[39m\n\u001B[1;32m    174\u001B[0m     exprs \u001B[38;5;241m=\u001B[39m cast(Tuple[Column, \u001B[38;5;241m.\u001B[39m\u001B[38;5;241m.\u001B[39m\u001B[38;5;241m.\u001B[39m], exprs)\n\u001B[1;32m    175\u001B[0m     jdf \u001B[38;5;241m=\u001B[39m \u001B[38;5;28mself\u001B[39m\u001B[38;5;241m.\u001B[39m_jgd\u001B[38;5;241m.\u001B[39magg(exprs[\u001B[38;5;241m0\u001B[39m]\u001B[38;5;241m.\u001B[39m_jc, _to_seq(\u001B[38;5;28mself\u001B[39m\u001B[38;5;241m.\u001B[39msession\u001B[38;5;241m.\u001B[39m_sc, [c\u001B[38;5;241m.\u001B[39m_jc \u001B[38;5;28;01mfor\u001B[39;00m c \u001B[38;5;129;01min\u001B[39;00m exprs[\u001B[38;5;241m1\u001B[39m:]]))\n",
      "\u001B[0;31mAssertionError\u001B[0m: all exprs should be Column"
     ]
    }
   ],
   "source": [
    "# groupby day, get estimated temp for cape canaveral for each group\n",
    "# TODO modify UDF to be a pandas_udf, finish remaining impl\n",
    "near_temp_ll.groupby('day').agg(est_temp_udf)"
   ],
   "metadata": {
    "collapsed": false
   }
  },
  {
   "cell_type": "markdown",
   "source": [
    "Plot the temperature at Cape Canaveral for every day in January 1986. Comment on your visualization. What might have happened if NASA had decided to delay the launch for a couple of days?"
   ],
   "metadata": {
    "collapsed": false
   }
  }
 ],
 "metadata": {
  "kernelspec": {
   "display_name": "Python 3",
   "language": "python",
   "name": "python3"
  },
  "language_info": {
   "codemirror_mode": {
    "name": "ipython",
    "version": 2
   },
   "file_extension": ".py",
   "mimetype": "text/x-python",
   "name": "python",
   "nbconvert_exporter": "python",
   "pygments_lexer": "ipython2",
   "version": "2.7.6"
  }
 },
 "nbformat": 4,
 "nbformat_minor": 0
}
