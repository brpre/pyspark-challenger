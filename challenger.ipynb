{
 "cells": [
  {
   "cell_type": "code",
   "execution_count": 1,
   "metadata": {
    "collapsed": true
   },
   "outputs": [],
   "source": [
    "from pyspark.sql import SparkSession\n",
    "from pyspark.sql.functions import col, udf\n",
    "from math import radians, cos, sin, asin, sqrt"
   ]
  },
  {
   "cell_type": "markdown",
   "source": [
    "## Exploring the Challenger weather data"
   ],
   "metadata": {
    "collapsed": false
   }
  },
  {
   "cell_type": "code",
   "execution_count": 2,
   "outputs": [
    {
     "name": "stderr",
     "output_type": "stream",
     "text": [
      "Setting default log level to \"WARN\".\n",
      "To adjust logging level use sc.setLogLevel(newLevel). For SparkR, use setLogLevel(newLevel).\n",
      "23/04/16 20:31:06 WARN NativeCodeLoader: Unable to load native-hadoop library for your platform... using builtin-java classes where applicable\n",
      "23/04/16 20:31:07 WARN Utils: Service 'SparkUI' could not bind on port 4040. Attempting port 4041.\n"
     ]
    }
   ],
   "source": [
    "spark = SparkSession.builder.appName(\"Challenger weather analysis\").getOrCreate()"
   ],
   "metadata": {
    "collapsed": false
   }
  },
  {
   "cell_type": "markdown",
   "source": [
    "stations.csv\n",
    "- Station ID (Int)\n",
    "- WBAN ID (Int)  \"Weather Bureau Army Navy\"\n",
    "- GPS Latitude (Decimal)\n",
    "- GPS Longitude (Decimal)\n",
    "\n",
    "Stations are identified by the combination of their Station ID and WBAN ID.\n",
    "Either of these IDs might be NULL."
   ],
   "metadata": {
    "collapsed": false
   }
  },
  {
   "cell_type": "code",
   "execution_count": 3,
   "outputs": [
    {
     "name": "stdout",
     "output_type": "stream",
     "text": [
      "root\n",
      " |-- station_id: integer (nullable = true)\n",
      " |-- wban_id: integer (nullable = true)\n",
      " |-- gps_lat: double (nullable = true)\n",
      " |-- gps_long: double (nullable = true)\n",
      "\n"
     ]
    }
   ],
   "source": [
    "stations = spark.read.csv('data/stations.csv', inferSchema=True, header=True)\n",
    "stations.printSchema()"
   ],
   "metadata": {
    "collapsed": false
   }
  },
  {
   "cell_type": "code",
   "execution_count": 4,
   "outputs": [
    {
     "name": "stderr",
     "output_type": "stream",
     "text": [
      "[Stage 2:>                                                          (0 + 1) / 1]\r"
     ]
    },
    {
     "name": "stdout",
     "output_type": "stream",
     "text": [
      "+----------+-------+-------+--------+\n",
      "|station_id|wban_id|gps_lat|gps_long|\n",
      "+----------+-------+-------+--------+\n",
      "|     13150|   null| 60.633|     6.1|\n",
      "|     14710|   null|  60.05|    9.15|\n",
      "|     20830|   null|   58.4|    19.2|\n",
      "|     20870|   null| 57.767|  14.083|\n",
      "|     22600|   null| 63.133|   18.25|\n",
      "|     22870|   null|   63.8|  20.867|\n",
      "|     25520|   null| 58.067|  15.233|\n",
      "|     27330|   null| 61.033|  28.567|\n",
      "|     28790|   null|   64.9|  29.017|\n",
      "|     29660|   null| 60.896|  26.938|\n",
      "|     31610|   null|   55.7|  -3.217|\n",
      "|     33180|   null| 53.772|  -3.029|\n",
      "|     35500|   null| 52.567|   0.717|\n",
      "|     37690|   null| 51.233|  -0.383|\n",
      "|     40831|   null|  66.35| -14.767|\n",
      "|     41760|   null| 64.933| -15.783|\n",
      "|     61240|   null| 55.017|  10.567|\n",
      "|     75173|   null| 44.183|  -0.283|\n",
      "|     80750|   null| 42.358|  -3.621|\n",
      "|     85320|   null| 38.831|   -9.34|\n",
      "+----------+-------+-------+--------+\n",
      "only showing top 20 rows\n",
      "\n"
     ]
    },
    {
     "name": "stderr",
     "output_type": "stream",
     "text": [
      "                                                                                \r"
     ]
    }
   ],
   "source": [
    "# drop rows with unspecified latitude\n",
    "stations = stations.filter(\n",
    "    stations.gps_lat.isNotNull() &\n",
    "    stations.gps_long.isNotNull() &\n",
    "    (stations.gps_lat != 0) &\n",
    "    (stations.gps_long != 0)\n",
    ").dropDuplicates()\n",
    "stations.show()"
   ],
   "metadata": {
    "collapsed": false
   }
  },
  {
   "cell_type": "markdown",
   "source": [
    "Identify all weather stations within 100 km of Cape Canaveral using the haversine function (Note: not all of the stations necessarily recorded a temperature on any given day.)"
   ],
   "metadata": {
    "collapsed": false
   }
  },
  {
   "cell_type": "code",
   "execution_count": 5,
   "outputs": [],
   "source": [
    "# first, get haversine distance between any two specified lat-long pairs\n",
    "\n",
    "# use cape canaveral's lat/long as base\n",
    "cc_lat = 28.3922\n",
    "cc_long = -80.6077\n",
    "\n",
    "# haversine function borrowed from https://stackoverflow.com/questions/4913349/haversine-formula-in-python-bearing-and-distance-between-two-gps-points\n",
    "def haversine(lon1, lat1, lon2=cc_long, lat2=cc_lat):\n",
    "    \"\"\"\n",
    "    Calculate the great circle distance in kilometers between two points\n",
    "    on the earth (specified in decimal degrees)\n",
    "    \"\"\"\n",
    "    # convert decimal degrees to radians\n",
    "    lon1, lat1, lon2, lat2 = map(radians, [lon1, lat1, lon2, lat2])\n",
    "\n",
    "    # haversine formula\n",
    "    dlon = lon2 - lon1\n",
    "    dlat = lat2 - lat1\n",
    "    a = sin(dlat/2)**2 + cos(lat1) * cos(lat2) * sin(dlon/2)**2\n",
    "    c = 2 * asin(sqrt(a))\n",
    "    r = 6371 # Radius of earth in kilometers. Use 3956 for miles. Determines return value units.\n",
    "    return c * r\n",
    "\n",
    "# convert haversine() function into a spark UDF\n",
    "haversine_udf = udf(lambda lat, long: haversine(lat, long))"
   ],
   "metadata": {
    "collapsed": false
   }
  },
  {
   "cell_type": "code",
   "execution_count": 9,
   "outputs": [
    {
     "name": "stderr",
     "output_type": "stream",
     "text": [
      "[Stage 10:>                                                         (0 + 1) / 1]\r"
     ]
    },
    {
     "name": "stdout",
     "output_type": "stream",
     "text": [
      "+----------+-------+-------+--------+------------------+\n",
      "|station_id|wban_id|gps_lat|gps_long|           cc_dist|\n",
      "+----------+-------+-------+--------+------------------+\n",
      "|     13150|   null| 60.633|     6.1|14362.627898499035|\n",
      "|     14710|   null|  60.05|    9.15|14076.082831990354|\n",
      "|     20830|   null|   58.4|    19.2|13129.822797265268|\n",
      "|     20870|   null| 57.767|  14.083|13507.373440055057|\n",
      "|     22600|   null| 63.133|   18.25|13527.122096864574|\n",
      "|     22870|   null|   63.8|  20.867|13336.543221927428|\n",
      "|     25520|   null| 58.067|  15.233|13435.685110051569|\n",
      "|     27330|   null| 61.033|  28.567| 12480.29795254318|\n",
      "|     28790|   null|   64.9|  29.017|12652.946183934917|\n",
      "|     29660|   null| 60.896|  26.938|12618.098342207893|\n",
      "|     31610|   null|   55.7|  -3.217|14614.883145513937|\n",
      "|     33180|   null| 53.772|  -3.029|14428.437965857225|\n",
      "|     35500|   null| 52.567|   0.717|14074.894578695299|\n",
      "|     37690|   null| 51.233|  -0.383|14027.929467386235|\n",
      "|     40831|   null|  66.35| -14.767|   16294.600958138|\n",
      "|     41760|   null| 64.933| -15.783|16215.124380815794|\n",
      "|     61240|   null| 55.017|  10.567|13573.394096668184|\n",
      "|     75173|   null| 44.183|  -0.283|13374.993309624599|\n",
      "|     80750|   null| 42.358|  -3.621| 13400.62710093913|\n",
      "|     85320|   null| 38.831|   -9.34| 13371.46264294523|\n",
      "+----------+-------+-------+--------+------------------+\n",
      "only showing top 20 rows\n",
      "\n"
     ]
    },
    {
     "name": "stderr",
     "output_type": "stream",
     "text": [
      "                                                                                \r"
     ]
    }
   ],
   "source": [
    "# add column to df containing distance between each station and Cape Canaveral\n",
    "\n",
    "# get distance between each lat-long pair and cape canaveral\n",
    "haversine_col = haversine_udf(col('gps_lat'), col('gps_long'))\n",
    "# add column to stations df containing distances\n",
    "stations_cc_dist = stations.withColumn('cc_dist', haversine_col)\n",
    "stations_cc_dist.show()"
   ],
   "metadata": {
    "collapsed": false
   }
  },
  {
   "cell_type": "code",
   "execution_count": 10,
   "outputs": [
    {
     "name": "stdout",
     "output_type": "stream",
     "text": [
      "+----------+-------+-------+--------+------------------+\n",
      "|station_id|wban_id|gps_lat|gps_long|           cc_dist|\n",
      "+----------+-------+-------+--------+------------------+\n",
      "|    895360|   null| -78.65|  35.633| 825.9674131550656|\n",
      "|    895280|   null|-82.767|  28.583|212.09237546626963|\n",
      "+----------+-------+-------+--------+------------------+\n",
      "\n"
     ]
    }
   ],
   "source": [
    "# filter stations to retain only rows where distance is leq 100km\n",
    "stations_near_cc = stations_cc_dist.filter(col('cc_dist') <= 1000)\n",
    "stations_near_cc.show()"
   ],
   "metadata": {
    "collapsed": false
   }
  },
  {
   "cell_type": "markdown",
   "source": [
    "\n",
    "\n",
    "Create a new column in the dataframe using the UDF to calculate the distance between each station and the given lat-long pair.\n",
    "Filter the dataframe to keep only the rows where the distance is less than or equal to 100km."
   ],
   "metadata": {
    "collapsed": false
   }
  },
  {
   "cell_type": "markdown",
   "source": [
    "yyyy.csv (yyyy = year)\n",
    "- StationID (Int)\n",
    "- WBANID (Int)\n",
    "- Month (Int)\n",
    "- Day (Int)\n",
    "- Temperature / degrees F (Decimal)"
   ],
   "metadata": {
    "collapsed": false
   }
  },
  {
   "cell_type": "code",
   "execution_count": 7,
   "outputs": [
    {
     "name": "stderr",
     "output_type": "stream",
     "text": [
      "[Stage 7:=======>                                                   (1 + 7) / 8]\r"
     ]
    },
    {
     "name": "stdout",
     "output_type": "stream",
     "text": [
      "root\n",
      " |-- station_id: integer (nullable = true)\n",
      " |-- wban_id: integer (nullable = true)\n",
      " |-- month: integer (nullable = true)\n",
      " |-- day: integer (nullable = true)\n",
      " |-- temp_f: double (nullable = true)\n",
      "\n"
     ]
    },
    {
     "name": "stderr",
     "output_type": "stream",
     "text": [
      "                                                                                \r"
     ]
    }
   ],
   "source": [
    "temps = spark.read.csv('data/1986.csv', inferSchema=True, header=True)\n",
    "temps.printSchema()"
   ],
   "metadata": {
    "collapsed": false
   }
  },
  {
   "cell_type": "code",
   "execution_count": 8,
   "outputs": [
    {
     "name": "stdout",
     "output_type": "stream",
     "text": [
      "+----------+-------+-----+---+------+\n",
      "|station_id|wban_id|month|day|temp_f|\n",
      "+----------+-------+-----+---+------+\n",
      "|     10010|   null|    1|  1|  17.2|\n",
      "|     10010|   null|    1|  2|  12.1|\n",
      "|     10010|   null|    1|  3|  10.4|\n",
      "|     10010|   null|    1|  4|  17.4|\n",
      "|     10010|   null|    1|  5|  26.5|\n",
      "|     10010|   null|    1|  6|  30.1|\n",
      "|     10010|   null|    1|  7|  29.7|\n",
      "|     10010|   null|    1|  8|  29.6|\n",
      "|     10010|   null|    1|  9|  29.6|\n",
      "|     10010|   null|    1| 10|  33.0|\n",
      "|     10010|   null|    1| 11|  32.5|\n",
      "|     10010|   null|    1| 12|  27.4|\n",
      "|     10010|   null|    1| 13|  22.2|\n",
      "|     10010|   null|    1| 14|  11.3|\n",
      "|     10010|   null|    1| 15|   2.5|\n",
      "|     10010|   null|    1| 16|   3.0|\n",
      "|     10010|   null|    1| 17|  13.4|\n",
      "|     10010|   null|    1| 18|  29.8|\n",
      "|     10010|   null|    1| 19|  27.5|\n",
      "|     10010|   null|    1| 20|  25.2|\n",
      "+----------+-------+-----+---+------+\n",
      "only showing top 20 rows\n",
      "\n"
     ]
    }
   ],
   "source": [
    "temps.show()"
   ],
   "metadata": {
    "collapsed": false
   }
  }
 ],
 "metadata": {
  "kernelspec": {
   "display_name": "Python 3",
   "language": "python",
   "name": "python3"
  },
  "language_info": {
   "codemirror_mode": {
    "name": "ipython",
    "version": 2
   },
   "file_extension": ".py",
   "mimetype": "text/x-python",
   "name": "python",
   "nbconvert_exporter": "python",
   "pygments_lexer": "ipython2",
   "version": "2.7.6"
  }
 },
 "nbformat": 4,
 "nbformat_minor": 0
}
